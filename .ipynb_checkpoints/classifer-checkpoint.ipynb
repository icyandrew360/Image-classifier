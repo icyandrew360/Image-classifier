{
 "cells": [
  {
   "cell_type": "code",
   "execution_count": 1,
   "metadata": {},
   "outputs": [],
   "source": [
    "import matplotlib.pyplot as plt\n",
    "import numpy as np\n",
    "import PIL\n",
    "import tensorflow as tf\n",
    "\n",
    "from tensorflow import keras\n",
    "from keras import layers\n",
    "from keras.models import Sequential"
   ]
  },
  {
   "cell_type": "code",
   "execution_count": 2,
   "metadata": {},
   "outputs": [
    {
     "name": "stdout",
     "output_type": "stream",
     "text": [
      "Downloading data from https://storage.googleapis.com/download.tensorflow.org/example_images/flower_photos.tgz\n",
      "228813984/228813984 [==============================] - 23s 0us/step\n",
      "/Users/andrewhowe/.keras/datasets/flower_photos\n"
     ]
    }
   ],
   "source": [
    "import pathlib\n",
    "\n",
    "#tgz is a type of compressed folder, tar is a utility to collect many files into one archive file.\n",
    "#pathlib\n",
    "dataset_url = \"https://storage.googleapis.com/download.tensorflow.org/example_images/flower_photos.tgz\"\n",
    "data_dir = tf.keras.utils.get_file('flower_photos.tar', origin=dataset_url, extract=True)\n",
    "data_dir = pathlib.Path(data_dir).with_suffix('')\n",
    "print(data_dir)"
   ]
  },
  {
   "cell_type": "code",
   "execution_count": 3,
   "metadata": {},
   "outputs": [
    {
     "name": "stdout",
     "output_type": "stream",
     "text": [
      "3670\n"
     ]
    }
   ],
   "source": [
    "image_count = len(list(data_dir.glob('*/*.jpg')))\n",
    "print(image_count)"
   ]
  },
  {
   "cell_type": "code",
   "execution_count": 4,
   "metadata": {},
   "outputs": [
    {
     "name": "stdout",
     "output_type": "stream",
     "text": [
      "/Users/andrewhowe/.keras/datasets/flower_photos/roses/5777669976_a205f61e5b.jpg\n"
     ]
    }
   ],
   "source": [
    "roses = list(data_dir.glob('roses/*.jpg'))\n",
    "print (roses[1])\n",
    "# PIL.Image.open(str(roses[2]))"
   ]
  },
  {
   "cell_type": "code",
   "execution_count": 5,
   "metadata": {},
   "outputs": [
    {
     "name": "stdout",
     "output_type": "stream",
     "text": [
      "Found 3670 files belonging to 5 classes.\n",
      "Using 3303 files for training.\n",
      "Using 367 files for validation.\n",
      "['daisy', 'dandelion', 'roses', 'sunflowers', 'tulips']\n"
     ]
    }
   ],
   "source": [
    "batch_size = 32\n",
    "img_height = 180\n",
    "img_width = 180\n",
    "\n",
    "training_dataset, validating_dataset = tf.keras.utils.image_dataset_from_directory(\n",
    "    data_dir, \n",
    "    validation_split=0.1, \n",
    "    subset=\"both\", \n",
    "    image_size=(img_height, img_width),\n",
    "    batch_size=batch_size,\n",
    "    seed=123\n",
    ")\n",
    "class_names = training_dataset.class_names\n",
    "print (training_dataset.class_names)"
   ]
  },
  {
   "cell_type": "code",
   "execution_count": 16,
   "metadata": {},
   "outputs": [
    {
     "name": "stdout",
     "output_type": "stream",
     "text": [
      "(32, 180, 180, 3)\n",
      "(32,)\n"
     ]
    }
   ],
   "source": [
    "#the images in the dataset is represented as a tensor of the shape (32, 180, 180, 3).\n",
    "#This means 32 images, of shape 180x180x3 (last dimension refers to # of color channels. R G B.)\n",
    "#labels represented as tensor of shape (32,) corresponding to the 32 images.\n",
    "for images, labels in training_dataset:\n",
    "    print (images.shape)\n",
    "    print(labels.shape)\n",
    "    break\n",
    "\n",
    "#buffered prefetching - prevent I/O blocking.\n",
    "\n",
    "#Dataset.cache keeps images in memory after they are loaded off the disk during first epoch. So we dont have to refetch after every epoch.\n",
    "#Dataset.prefetch allows the preprocessing of data while the model execution is happening during training.\n",
    "#tf.data.AUTOTUNE dynamically sets the buffer time during execution.\n",
    "\n",
    "training_dataset = training_dataset.cache(buffer_size=tf.data.AUTOTUNE)\n"
   ]
  }
 ],
 "metadata": {
  "kernelspec": {
   "display_name": "Python 3 (ipykernel)",
   "language": "python",
   "name": "python3"
  },
  "language_info": {
   "codemirror_mode": {
    "name": "ipython",
    "version": 3
   },
   "file_extension": ".py",
   "mimetype": "text/x-python",
   "name": "python",
   "nbconvert_exporter": "python",
   "pygments_lexer": "ipython3",
   "version": "3.11.4"
  },
  "vscode": {
   "interpreter": {
    "hash": "16b4124073f4b5b350c1e27f4d0705151de9a4ed0794c35111c7605143dd7246"
   }
  }
 },
 "nbformat": 4,
 "nbformat_minor": 4
}
